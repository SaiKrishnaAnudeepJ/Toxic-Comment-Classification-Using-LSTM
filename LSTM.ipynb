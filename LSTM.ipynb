{
  "cells": [
    {
      "metadata": {
        "_uuid": "8f2839f25d086af736a60e9eeb907d3b93b6e0e5",
        "_cell_guid": "b1076dfc-b9ad-4769-8c92-a6c4dae69d19",
        "trusted": true
      },
      "cell_type": "code",
      "source": "# This Python 3 environment comes with many helpful analytics libraries installed\n# It is defined by the kaggle/python docker image: https://github.com/kaggle/docker-python\n# For example, here's several helpful packages to load in \n\nimport numpy as np # linear algebra\nimport pandas as pd # data processing, CSV file I/O (e.g. pd.read_csv)\n\n# Input data files are available in the \"../input/\" directory.\n# For example, running this (by clicking run or pressing Shift+Enter) will list the files in the input directory\n\nimport os\nprint(os.listdir(\"../input\"))\n\n# Any results you write to the current directory are saved as output.",
      "execution_count": 2,
      "outputs": [
        {
          "output_type": "stream",
          "text": "['train.csv', 'test.csv', 'sample_submission.csv']\n",
          "name": "stdout"
        }
      ]
    },
    {
      "metadata": {
        "_uuid": "d629ff2d2480ee46fbb7e2d37f6b5fab8052498a",
        "_cell_guid": "79c7e3d0-c299-4dcb-8224-4455121ee9b0",
        "trusted": true
      },
      "cell_type": "code",
      "source": "# Importing necessary Packages\nimport pandas as pd\nimport numpy as np\nimport nltk\nnltk.download('stopwords')\nfrom nltk.corpus import stopwords\nimport re\nfrom sklearn.cross_validation import train_test_split\nfrom sklearn.cross_validation import  cross_val_score\nimport re\nfrom sklearn.feature_extraction.text import TfidfVectorizer\nfrom sklearn.feature_extraction.text import CountVectorizer\nimport keras\nfrom keras.models import Sequential\nfrom keras.layers import Dense, Dropout, Activation\nfrom keras.optimizers import SGD\nimport sklearn\nimport numpy as np\nfrom nltk import word_tokenize\nfrom collections import Counter",
      "execution_count": 3,
      "outputs": [
        {
          "output_type": "stream",
          "text": "[nltk_data] Error loading stopwords: <urlopen error [Errno -2] Name or\n[nltk_data]     service not known>\n",
          "name": "stdout"
        },
        {
          "output_type": "stream",
          "text": "/opt/conda/lib/python3.6/site-packages/sklearn/cross_validation.py:41: DeprecationWarning: This module was deprecated in version 0.18 in favor of the model_selection module into which all the refactored classes and functions are moved. Also note that the interface of the new CV iterators are different from that of this module. This module will be removed in 0.20.\n  \"This module will be removed in 0.20.\", DeprecationWarning)\n/opt/conda/lib/python3.6/site-packages/h5py/__init__.py:36: FutureWarning: Conversion of the second argument of issubdtype from `float` to `np.floating` is deprecated. In future, it will be treated as `np.float64 == np.dtype(float).type`.\n  from ._conv import register_converters as _register_converters\nUsing TensorFlow backend.\n",
          "name": "stderr"
        }
      ]
    },
    {
      "metadata": {
        "_uuid": "7aef6ef15ef44ba9e640d22cc93bddbd7a02db3c",
        "_cell_guid": "dc0a4d2b-8b47-45a0-afe6-7391af0b3688",
        "collapsed": true,
        "trusted": true
      },
      "cell_type": "code",
      "source": "#Reading the Training Dataset\ndftr = pd.read_csv(\"../input/train.csv\")\n#Reading the Testing Dataset\ndfts = pd.read_csv(\"../input/test.csv\")",
      "execution_count": 4,
      "outputs": []
    },
    {
      "metadata": {
        "_uuid": "76e830bc9ab98aa114cdf649a0fbe1eb372940d0",
        "_cell_guid": "643af843-3c2c-4398-b149-0963e181f6a6"
      },
      "cell_type": "markdown",
      "source": "## Text Preprocessing"
    },
    {
      "metadata": {
        "_uuid": "ba0039c5bbdb860b6227979dcec5eb79ab426287",
        "collapsed": true,
        "_cell_guid": "5a26710a-db8f-4d3f-8e26-e9221388fb60",
        "trusted": true
      },
      "cell_type": "code",
      "source": "STOPWORDS =  stopwords.words('english')",
      "execution_count": 5,
      "outputs": []
    },
    {
      "metadata": {
        "_uuid": "757daba9a0763439afd015af2a9870887e67e65f",
        "_cell_guid": "9072bf69-eeba-4b70-b5bb-11b543d6d1ae",
        "collapsed": true,
        "trusted": true
      },
      "cell_type": "code",
      "source": "#Defining a txtprepros function\ndef txtprepros(x):\n    x = \" \".join([word.lower() for word in x.split() ])                              #Lowercasing all letters\n    x = re.sub('[^A-Za-z0-9]+',\" \",x)                                                # Deleting some symbols by space\n    x  = \" \".join([word for word in x.split() if word not in STOPWORDS])             #Removing Stopwords\n    return x       ",
      "execution_count": 6,
      "outputs": []
    },
    {
      "metadata": {
        "_uuid": "ac279a861f976860968d8a752bd30e11eb4bc5de",
        "_cell_guid": "dec5d25e-b83e-4732-9306-e59b8af0ee3e",
        "collapsed": true,
        "trusted": true
      },
      "cell_type": "code",
      "source": "dftr[\"comment_text\"] = dftr[\"comment_text\"].apply(lambda x: txtprepros(x))\ndfts[\"comment_text\"] = dfts[\"comment_text\"].apply(lambda x: txtprepros(x))",
      "execution_count": 7,
      "outputs": []
    },
    {
      "metadata": {
        "_uuid": "7ae8f7ef053ce1ce1ec783a0431d9051643e4269",
        "_cell_guid": "5a1e04a9-a7d9-42ce-b9e6-4388bc95c0ae",
        "trusted": true
      },
      "cell_type": "code",
      "source": "dftr.comment_text.isnull().sum()",
      "execution_count": 8,
      "outputs": [
        {
          "output_type": "execute_result",
          "execution_count": 8,
          "data": {
            "text/plain": "0"
          },
          "metadata": {}
        }
      ]
    },
    {
      "metadata": {
        "_uuid": "dca575d0757d86fcc16f3cda92b5209391f6a37d",
        "_cell_guid": "5c6a3c81-4b1f-4a0d-aad6-b68714853ee7",
        "trusted": true
      },
      "cell_type": "code",
      "source": "dfts.comment_text.isnull().sum()",
      "execution_count": 9,
      "outputs": [
        {
          "output_type": "execute_result",
          "execution_count": 9,
          "data": {
            "text/plain": "0"
          },
          "metadata": {}
        }
      ]
    },
    {
      "metadata": {
        "_uuid": "5803f41e0452ae3f0c673b2d353dd63f14486598",
        "collapsed": true,
        "_cell_guid": "24b08030-0986-4a4b-a9f8-13cf9ee995ac",
        "trusted": true
      },
      "cell_type": "code",
      "source": "train_words=dftr.comment_text.map(lambda x:len(x.split()))\ntest_words=dfts.comment_text.map(lambda x:len(x.split()))",
      "execution_count": 10,
      "outputs": []
    },
    {
      "metadata": {
        "_uuid": "0e6d641efec8d9b18644b39b2b7d7eae21fcfa43",
        "_cell_guid": "55b8e6d2-6023-4378-b87c-56bcbedb5e26",
        "trusted": true
      },
      "cell_type": "code",
      "source": "# Training words description\ntrain_words.describe()",
      "execution_count": 11,
      "outputs": [
        {
          "output_type": "execute_result",
          "execution_count": 11,
          "data": {
            "text/plain": "count    159571.000000\nmean         35.852718\nstd          55.698275\nmin           0.000000\n25%           9.000000\n50%          19.000000\n75%          39.000000\nmax        1250.000000\nName: comment_text, dtype: float64"
          },
          "metadata": {}
        }
      ]
    },
    {
      "metadata": {
        "_uuid": "d3dee2df541e0101a0a505443ed01215b16e6eac",
        "_cell_guid": "5f817692-7d33-4d0e-a234-486796db3e6b",
        "trusted": true
      },
      "cell_type": "code",
      "source": "# Testing words description\ntest_words.describe()",
      "execution_count": 12,
      "outputs": [
        {
          "output_type": "execute_result",
          "execution_count": 12,
          "data": {
            "text/plain": "count    153164.000000\nmean         32.883419\nstd          58.756059\nmin           0.000000\n25%           7.000000\n50%          16.000000\n75%          34.000000\nmax        1667.000000\nName: comment_text, dtype: float64"
          },
          "metadata": {}
        }
      ]
    },
    {
      "metadata": {
        "_uuid": "601faf1678f1b8c3f1bc4b25da12159582e09180",
        "collapsed": true,
        "_cell_guid": "2b2cf4d8-0786-458b-8095-b487f825c278",
        "trusted": true
      },
      "cell_type": "code",
      "source": "#Y-Variables for Train Data set\nYT = np.array(dftr.iloc[:,2:])",
      "execution_count": 13,
      "outputs": []
    },
    {
      "metadata": {
        "_uuid": "7887ee9169ee16e168b7bdf5fe3e8a647ca4bb70",
        "_cell_guid": "c1c5bbc9-8862-4924-9b87-c5c243d801dd"
      },
      "cell_type": "markdown",
      "source": "## Building a LSTM Model"
    },
    {
      "metadata": {
        "_uuid": "83a554a77d827377510d17f9b4db4dc1352fd5d8",
        "_cell_guid": "89027f37-b79a-4447-8a25-49bdd4e3c3e2",
        "trusted": true,
        "collapsed": true
      },
      "cell_type": "code",
      "source": "from numpy import array\nfrom numpy import asarray\nfrom numpy import zeros\nfrom keras.preprocessing.text import Tokenizer\nfrom keras.preprocessing.sequence import pad_sequences\nfrom keras.models import Sequential\nfrom keras.layers import Dense\nfrom keras.layers import Flatten,LSTM\nfrom keras.layers import Embedding\nfrom numpy import array\nfrom keras.preprocessing.text import one_hot\nfrom keras.preprocessing.sequence import pad_sequences\nfrom keras.models import Sequential\nfrom keras.layers import Dense\nfrom keras.layers import Flatten\nfrom keras.layers.embeddings import Embedding",
      "execution_count": 14,
      "outputs": []
    },
    {
      "metadata": {
        "_uuid": "e33c018d03e251fc1564944a17de12f5049e82a3",
        "_cell_guid": "28ed67e0-ac7e-4d58-a424-be3953a269e9",
        "trusted": true
      },
      "cell_type": "code",
      "source": "# Deteremining Train Variables\ntk = Tokenizer()\ntk.fit_on_texts(dftr.comment_text)\nvocab_size = len(tk.word_index) + 1\n# integer encode the documents\nencoded_docs = tk.texts_to_sequences(dftr.comment_text)\n# pad documents to a max length of 99th percentile\nmax_length = int((train_words.quantile([.99])).values[0])\npadded_docs = pad_sequences(encoded_docs, maxlen=max_length, padding='post',truncating='post')\nprint('shape of Train input : ',padded_docs.shape)",
      "execution_count": 15,
      "outputs": [
        {
          "output_type": "stream",
          "text": "shape of Train input :  (159571, 312)\n",
          "name": "stdout"
        }
      ]
    },
    {
      "metadata": {
        "_uuid": "8dc7f90b7d966ebe1a4f9fb11fd2f1411a5fdeeb",
        "_cell_guid": "85d46ed2-9b6b-4321-8140-a086a9b43079",
        "trusted": true
      },
      "cell_type": "code",
      "source": "#Determing Test Variables\nencoded_docs1 = tk.texts_to_sequences(dfts.comment_text)\npadded_docs1 = pad_sequences(encoded_docs1, maxlen=max_length, padding='post',truncating='post')\nprint('shape of Test input sequence :', padded_docs1.shape)",
      "execution_count": 16,
      "outputs": [
        {
          "output_type": "stream",
          "text": "shape of Test input sequence : (153164, 312)\n",
          "name": "stdout"
        }
      ]
    },
    {
      "metadata": {
        "_uuid": "40b69a092f086bade138e8e2a521db0e0924b3b5",
        "_cell_guid": "5032f507-0bf7-4a4a-9aec-3a9a5fe832bf",
        "trusted": true
      },
      "cell_type": "code",
      "source": "# Creating the Model\nfrom keras.layers import Input, Embedding, LSTM, Dense\nfrom keras.models import Model\nmain_input = Input(shape=(max_length,), dtype='int32', name='main_input')\n# This embedding layer will encode the input sequence\n# into a sequence of dense 512-dimensional vectors.\nx = Embedding(output_dim=50, input_dim=vocab_size, input_length=max_length)(main_input)\nx = LSTM(32)(x)   #x = Flatten()(x)\ntoxic = Dense(1, activation='sigmoid', name='toxic_output')(x)\nsevere_toxic = Dense(1, activation='sigmoid', name='severe_toxic_output')(x)\nobscene = Dense(1, activation='sigmoid', name='obscene_output')(x)\nthreat = Dense(1, activation='sigmoid', name='threat_output')(x)\ninsult = Dense(1, activation='sigmoid', name='insult_output')(x)\nidentity_hate = Dense(1, activation='sigmoid', name='identity_hate_output')(x)\nmodel = Model(inputs=[main_input], outputs=[toxic, severe_toxic,obscene,threat,insult,identity_hate ])\nmodel.compile(optimizer='rmsprop',\n              loss={'toxic_output': 'binary_crossentropy', 'severe_toxic_output': 'binary_crossentropy',\n                    'obscene_output': 'binary_crossentropy', 'threat_output': 'binary_crossentropy',\n                   'insult_output': 'binary_crossentropy', 'identity_hate_output': 'binary_crossentropy'},\n              loss_weights={'toxic_output': 1, 'severe_toxic_output': 1,\n                    'obscene_output':1, 'threat_output': 1,\n                   'insult_output': 1, 'identity_hate_output': 1},metrics=['accuracy'])\nprint(model.summary())",
      "execution_count": 17,
      "outputs": [
        {
          "output_type": "stream",
          "text": "__________________________________________________________________________________________________\nLayer (type)                    Output Shape         Param #     Connected to                     \n==================================================================================================\nmain_input (InputLayer)         (None, 312)          0                                            \n__________________________________________________________________________________________________\nembedding_1 (Embedding)         (None, 312, 50)      9105750     main_input[0][0]                 \n__________________________________________________________________________________________________\nlstm_1 (LSTM)                   (None, 32)           10624       embedding_1[0][0]                \n__________________________________________________________________________________________________\ntoxic_output (Dense)            (None, 1)            33          lstm_1[0][0]                     \n__________________________________________________________________________________________________\nsevere_toxic_output (Dense)     (None, 1)            33          lstm_1[0][0]                     \n__________________________________________________________________________________________________\nobscene_output (Dense)          (None, 1)            33          lstm_1[0][0]                     \n__________________________________________________________________________________________________\nthreat_output (Dense)           (None, 1)            33          lstm_1[0][0]                     \n__________________________________________________________________________________________________\ninsult_output (Dense)           (None, 1)            33          lstm_1[0][0]                     \n__________________________________________________________________________________________________\nidentity_hate_output (Dense)    (None, 1)            33          lstm_1[0][0]                     \n==================================================================================================\nTotal params: 9,116,572\nTrainable params: 9,116,572\nNon-trainable params: 0\n__________________________________________________________________________________________________\nNone\n",
          "name": "stdout"
        }
      ]
    },
    {
      "metadata": {
        "_uuid": "619674d0a87b480f5047448b02178f76c621c098",
        "_cell_guid": "f9a459ed-8cc5-44ee-87d7-58c5fb6956bf",
        "trusted": true
      },
      "cell_type": "code",
      "source": "model.fit({'main_input': padded_docs},\n          {'toxic_output': YT[:,0], 'severe_toxic_output':  YT[:,1],\n                    'obscene_output': YT[:,2], 'threat_output':  YT[:,3],\n                   'insult_output':  YT[:,4], 'identity_hate_output':  YT[:,5]},\n          epochs=1, batch_size=32)",
      "execution_count": 18,
      "outputs": [
        {
          "output_type": "stream",
          "text": "Epoch 1/1\n159571/159571 [==============================] - 3526s 22ms/step - loss: 0.8547 - toxic_output_loss: 0.3167 - severe_toxic_output_loss: 0.0571 - obscene_output_loss: 0.2080 - threat_output_loss: 0.0224 - insult_output_loss: 0.1975 - identity_hate_output_loss: 0.0528 - toxic_output_acc: 0.9042 - severe_toxic_output_acc: 0.9901 - obscene_output_acc: 0.9470 - threat_output_acc: 0.9969 - insult_output_acc: 0.9507 - identity_hate_output_acc: 0.9909\n",
          "name": "stdout"
        },
        {
          "output_type": "execute_result",
          "execution_count": 18,
          "data": {
            "text/plain": "<keras.callbacks.History at 0x7fe3e6ceaef0>"
          },
          "metadata": {}
        }
      ]
    },
    {
      "metadata": {
        "_uuid": "c6ca65b0ac02334221d70b4f20aa16f7a2a91d35",
        "_cell_guid": "f788e109-8746-4eff-be92-59054cf843d1",
        "collapsed": true
      },
      "cell_type": "markdown",
      "source": "## Prediction on test Datasets"
    },
    {
      "metadata": {
        "_uuid": "9e83676195bbdd3ff8eab644196b4c16a7e7820b",
        "_cell_guid": "6c52b324-d3a6-40d7-9560-ca184d33a94d",
        "collapsed": true,
        "trusted": true
      },
      "cell_type": "code",
      "source": "y_pred = model.predict(padded_docs1)",
      "execution_count": 19,
      "outputs": []
    },
    {
      "metadata": {
        "_uuid": "92bc27ae51a868d5a0332aa4893f9083c1577449",
        "_cell_guid": "22fc03ec-d6f0-4c2b-bdb5-be9d1a6ae5ce",
        "collapsed": true
      },
      "cell_type": "markdown",
      "source": "## Submission"
    },
    {
      "metadata": {
        "_uuid": "7b91d1c715d5d2eae9763a41fc5d7d5f0556760e",
        "_cell_guid": "612d214f-9e71-460c-a0ac-29aad11b6e92",
        "collapsed": true,
        "trusted": true
      },
      "cell_type": "code",
      "source": "df_sub=pd.read_csv('../input/sample_submission.csv',\n                     sep=',', engine='c')",
      "execution_count": 20,
      "outputs": []
    },
    {
      "metadata": {
        "_uuid": "3f053b1c740774e06b437cb4246f0195aeeaa5e9",
        "_cell_guid": "0dfe16a8-6386-4819-8ff0-081a6fa3f78a",
        "collapsed": true,
        "trusted": true
      },
      "cell_type": "code",
      "source": "df_sub.toxic=y_pred[0]\ndf_sub.severe_toxic=y_pred[1]\ndf_sub.obscene=y_pred[2]\ndf_sub.threat=y_pred[3]\ndf_sub.insult=y_pred[4]\ndf_sub.identity_hate=y_pred[5]",
      "execution_count": 21,
      "outputs": []
    },
    {
      "metadata": {
        "trusted": true,
        "collapsed": true,
        "_uuid": "b5d0e1ad80bcde76836a5a8dcffdc61fc7660e6d"
      },
      "cell_type": "code",
      "source": "dfsub = df_sub.copy()",
      "execution_count": 30,
      "outputs": []
    },
    {
      "metadata": {
        "trusted": true,
        "_uuid": "8cf0c9ae858af27692bd3ccec2444f82bbaf12d0"
      },
      "cell_type": "code",
      "source": "list(dfsub)",
      "execution_count": 26,
      "outputs": [
        {
          "output_type": "execute_result",
          "execution_count": 26,
          "data": {
            "text/plain": "['id', 'toxic', 'severe_toxic', 'obscene', 'threat', 'insult', 'identity_hate']"
          },
          "metadata": {}
        }
      ]
    },
    {
      "metadata": {
        "trusted": true,
        "_uuid": "672c5c17600bae60a716b29b1118f4913a3ad8c9"
      },
      "cell_type": "code",
      "source": "for i in ['toxic', 'severe_toxic', 'obscene', 'threat', 'insult', 'identity_hate']:\n    dfsub[i] = dfsub[i] / (dfsub[i].max() - dfsub[i].min())",
      "execution_count": 32,
      "outputs": []
    },
    {
      "metadata": {
        "trusted": true,
        "collapsed": true,
        "_uuid": "acbeac72cb8d9671d15aa96c173964e30b014a71"
      },
      "cell_type": "code",
      "source": "for i in ['toxic', 'severe_toxic', 'obscene', 'threat', 'insult', 'identity_hate']:\n    dfsub[i] = np.where(dfsub[i]>dfsub[i].mean(),1,0)",
      "execution_count": 34,
      "outputs": []
    },
    {
      "metadata": {
        "trusted": true,
        "_uuid": "74a372eae26c37ad0dc8e31a8e1531c8f6a1f657"
      },
      "cell_type": "code",
      "source": "df_sub.describe()",
      "execution_count": 40,
      "outputs": [
        {
          "output_type": "execute_result",
          "execution_count": 40,
          "data": {
            "text/plain": "               toxic   severe_toxic        obscene         threat  \\\ncount  153164.000000  153164.000000  153164.000000  153164.000000   \nmean        0.093171       0.010875       0.046685       0.002644   \nstd         0.017763       0.019654       0.016877       0.014358   \nmin         0.078705       0.005107       0.034659       0.001007   \n25%         0.092341       0.010123       0.046125       0.002115   \n50%         0.092341       0.010123       0.046125       0.002115   \n75%         0.092341       0.010123       0.046125       0.002115   \nmax         0.723256       0.724981       0.645952       0.593561   \n\n              insult  identity_hate  \ncount  153164.000000  153164.000000  \nmean        0.046631       0.006532  \nstd         0.018661       0.016511  \nmin         0.037211       0.002726  \n25%         0.045959       0.005893  \n50%         0.045959       0.005893  \n75%         0.045959       0.005893  \nmax         0.707177       0.611279  ",
            "text/html": "<div>\n<style scoped>\n    .dataframe tbody tr th:only-of-type {\n        vertical-align: middle;\n    }\n\n    .dataframe tbody tr th {\n        vertical-align: top;\n    }\n\n    .dataframe thead th {\n        text-align: right;\n    }\n</style>\n<table border=\"1\" class=\"dataframe\">\n  <thead>\n    <tr style=\"text-align: right;\">\n      <th></th>\n      <th>toxic</th>\n      <th>severe_toxic</th>\n      <th>obscene</th>\n      <th>threat</th>\n      <th>insult</th>\n      <th>identity_hate</th>\n    </tr>\n  </thead>\n  <tbody>\n    <tr>\n      <th>count</th>\n      <td>153164.000000</td>\n      <td>153164.000000</td>\n      <td>153164.000000</td>\n      <td>153164.000000</td>\n      <td>153164.000000</td>\n      <td>153164.000000</td>\n    </tr>\n    <tr>\n      <th>mean</th>\n      <td>0.093171</td>\n      <td>0.010875</td>\n      <td>0.046685</td>\n      <td>0.002644</td>\n      <td>0.046631</td>\n      <td>0.006532</td>\n    </tr>\n    <tr>\n      <th>std</th>\n      <td>0.017763</td>\n      <td>0.019654</td>\n      <td>0.016877</td>\n      <td>0.014358</td>\n      <td>0.018661</td>\n      <td>0.016511</td>\n    </tr>\n    <tr>\n      <th>min</th>\n      <td>0.078705</td>\n      <td>0.005107</td>\n      <td>0.034659</td>\n      <td>0.001007</td>\n      <td>0.037211</td>\n      <td>0.002726</td>\n    </tr>\n    <tr>\n      <th>25%</th>\n      <td>0.092341</td>\n      <td>0.010123</td>\n      <td>0.046125</td>\n      <td>0.002115</td>\n      <td>0.045959</td>\n      <td>0.005893</td>\n    </tr>\n    <tr>\n      <th>50%</th>\n      <td>0.092341</td>\n      <td>0.010123</td>\n      <td>0.046125</td>\n      <td>0.002115</td>\n      <td>0.045959</td>\n      <td>0.005893</td>\n    </tr>\n    <tr>\n      <th>75%</th>\n      <td>0.092341</td>\n      <td>0.010123</td>\n      <td>0.046125</td>\n      <td>0.002115</td>\n      <td>0.045959</td>\n      <td>0.005893</td>\n    </tr>\n    <tr>\n      <th>max</th>\n      <td>0.723256</td>\n      <td>0.724981</td>\n      <td>0.645952</td>\n      <td>0.593561</td>\n      <td>0.707177</td>\n      <td>0.611279</td>\n    </tr>\n  </tbody>\n</table>\n</div>"
          },
          "metadata": {}
        }
      ]
    },
    {
      "metadata": {
        "_uuid": "739c2608aaba0f91b476db575a1b341a76ff5258",
        "_cell_guid": "6789c752-2c01-450b-816d-8b7ec6fa8288",
        "trusted": true
      },
      "cell_type": "code",
      "source": "df_sub.to_csv('LSTM.csv',index=False)",
      "execution_count": 42,
      "outputs": []
    },
    {
      "metadata": {
        "trusted": true,
        "_uuid": "1574e9b34edbe23a815e3322d3b867695b1d8058"
      },
      "cell_type": "code",
      "source": "df_sub.describe()",
      "execution_count": 37,
      "outputs": [
        {
          "output_type": "execute_result",
          "execution_count": 37,
          "data": {
            "text/plain": "               toxic   severe_toxic        obscene         threat  \\\ncount  153164.000000  153164.000000  153164.000000  153164.000000   \nmean        0.004126       0.004192       0.004642       0.002357   \nstd         0.064104       0.064607       0.067975       0.048491   \nmin         0.000000       0.000000       0.000000       0.000000   \n25%         0.000000       0.000000       0.000000       0.000000   \n50%         0.000000       0.000000       0.000000       0.000000   \n75%         0.000000       0.000000       0.000000       0.000000   \nmax         1.000000       1.000000       1.000000       1.000000   \n\n              insult  identity_hate  \ncount  153164.000000  153164.000000  \nmean        0.004629       0.003500  \nstd         0.067880       0.059053  \nmin         0.000000       0.000000  \n25%         0.000000       0.000000  \n50%         0.000000       0.000000  \n75%         0.000000       0.000000  \nmax         1.000000       1.000000  ",
            "text/html": "<div>\n<style scoped>\n    .dataframe tbody tr th:only-of-type {\n        vertical-align: middle;\n    }\n\n    .dataframe tbody tr th {\n        vertical-align: top;\n    }\n\n    .dataframe thead th {\n        text-align: right;\n    }\n</style>\n<table border=\"1\" class=\"dataframe\">\n  <thead>\n    <tr style=\"text-align: right;\">\n      <th></th>\n      <th>toxic</th>\n      <th>severe_toxic</th>\n      <th>obscene</th>\n      <th>threat</th>\n      <th>insult</th>\n      <th>identity_hate</th>\n    </tr>\n  </thead>\n  <tbody>\n    <tr>\n      <th>count</th>\n      <td>153164.000000</td>\n      <td>153164.000000</td>\n      <td>153164.000000</td>\n      <td>153164.000000</td>\n      <td>153164.000000</td>\n      <td>153164.000000</td>\n    </tr>\n    <tr>\n      <th>mean</th>\n      <td>0.004126</td>\n      <td>0.004192</td>\n      <td>0.004642</td>\n      <td>0.002357</td>\n      <td>0.004629</td>\n      <td>0.003500</td>\n    </tr>\n    <tr>\n      <th>std</th>\n      <td>0.064104</td>\n      <td>0.064607</td>\n      <td>0.067975</td>\n      <td>0.048491</td>\n      <td>0.067880</td>\n      <td>0.059053</td>\n    </tr>\n    <tr>\n      <th>min</th>\n      <td>0.000000</td>\n      <td>0.000000</td>\n      <td>0.000000</td>\n      <td>0.000000</td>\n      <td>0.000000</td>\n      <td>0.000000</td>\n    </tr>\n    <tr>\n      <th>25%</th>\n      <td>0.000000</td>\n      <td>0.000000</td>\n      <td>0.000000</td>\n      <td>0.000000</td>\n      <td>0.000000</td>\n      <td>0.000000</td>\n    </tr>\n    <tr>\n      <th>50%</th>\n      <td>0.000000</td>\n      <td>0.000000</td>\n      <td>0.000000</td>\n      <td>0.000000</td>\n      <td>0.000000</td>\n      <td>0.000000</td>\n    </tr>\n    <tr>\n      <th>75%</th>\n      <td>0.000000</td>\n      <td>0.000000</td>\n      <td>0.000000</td>\n      <td>0.000000</td>\n      <td>0.000000</td>\n      <td>0.000000</td>\n    </tr>\n    <tr>\n      <th>max</th>\n      <td>1.000000</td>\n      <td>1.000000</td>\n      <td>1.000000</td>\n      <td>1.000000</td>\n      <td>1.000000</td>\n      <td>1.000000</td>\n    </tr>\n  </tbody>\n</table>\n</div>"
          },
          "metadata": {}
        }
      ]
    },
    {
      "metadata": {
        "trusted": true,
        "collapsed": true,
        "_uuid": "f87d990f2b73b0bf961c63c57540381c22715349"
      },
      "cell_type": "code",
      "source": "",
      "execution_count": null,
      "outputs": []
    }
  ],
  "metadata": {
    "language_info": {
      "name": "python",
      "version": "3.6.4",
      "mimetype": "text/x-python",
      "codemirror_mode": {
        "name": "ipython",
        "version": 3
      },
      "pygments_lexer": "ipython3",
      "nbconvert_exporter": "python",
      "file_extension": ".py"
    },
    "kernelspec": {
      "display_name": "Python 3",
      "language": "python",
      "name": "python3"
    }
  },
  "nbformat": 4,
  "nbformat_minor": 1
}